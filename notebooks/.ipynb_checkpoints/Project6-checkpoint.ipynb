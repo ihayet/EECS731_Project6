{
 "cells": [
  {
   "cell_type": "markdown",
   "metadata": {},
   "source": [
    "# Anomaly Detection of Tweets mentioning 'GOOG' tickr symbol"
   ]
  },
  {
   "cell_type": "code",
   "execution_count": 95,
   "metadata": {},
   "outputs": [],
   "source": [
    "import numpy as np\n",
    "import pandas as pd\n",
    "\n",
    "import matplotlib.pyplot as plt\n",
    "%matplotlib inline\n",
    "\n",
    "from sklearn.ensemble import IsolationForest"
   ]
  },
  {
   "cell_type": "code",
   "execution_count": 96,
   "metadata": {},
   "outputs": [],
   "source": [
    "data = pd.read_csv('../data/archive/realTweets/realTweets/Twitter_volume_GOOG.csv')"
   ]
  },
  {
   "cell_type": "code",
   "execution_count": 97,
   "metadata": {},
   "outputs": [
    {
     "data": {
      "text/html": [
       "<div>\n",
       "<style scoped>\n",
       "    .dataframe tbody tr th:only-of-type {\n",
       "        vertical-align: middle;\n",
       "    }\n",
       "\n",
       "    .dataframe tbody tr th {\n",
       "        vertical-align: top;\n",
       "    }\n",
       "\n",
       "    .dataframe thead th {\n",
       "        text-align: right;\n",
       "    }\n",
       "</style>\n",
       "<table border=\"1\" class=\"dataframe\">\n",
       "  <thead>\n",
       "    <tr style=\"text-align: right;\">\n",
       "      <th></th>\n",
       "      <th>timestamp</th>\n",
       "      <th>value</th>\n",
       "    </tr>\n",
       "  </thead>\n",
       "  <tbody>\n",
       "    <tr>\n",
       "      <th>0</th>\n",
       "      <td>2015-02-26 21:42:53</td>\n",
       "      <td>35</td>\n",
       "    </tr>\n",
       "    <tr>\n",
       "      <th>1</th>\n",
       "      <td>2015-02-26 21:47:53</td>\n",
       "      <td>41</td>\n",
       "    </tr>\n",
       "    <tr>\n",
       "      <th>2</th>\n",
       "      <td>2015-02-26 21:52:53</td>\n",
       "      <td>32</td>\n",
       "    </tr>\n",
       "    <tr>\n",
       "      <th>3</th>\n",
       "      <td>2015-02-26 21:57:53</td>\n",
       "      <td>36</td>\n",
       "    </tr>\n",
       "    <tr>\n",
       "      <th>4</th>\n",
       "      <td>2015-02-26 22:02:53</td>\n",
       "      <td>32</td>\n",
       "    </tr>\n",
       "    <tr>\n",
       "      <th>...</th>\n",
       "      <td>...</td>\n",
       "      <td>...</td>\n",
       "    </tr>\n",
       "    <tr>\n",
       "      <th>15837</th>\n",
       "      <td>2015-04-22 21:27:53</td>\n",
       "      <td>58</td>\n",
       "    </tr>\n",
       "    <tr>\n",
       "      <th>15838</th>\n",
       "      <td>2015-04-22 21:32:53</td>\n",
       "      <td>50</td>\n",
       "    </tr>\n",
       "    <tr>\n",
       "      <th>15839</th>\n",
       "      <td>2015-04-22 21:37:53</td>\n",
       "      <td>32</td>\n",
       "    </tr>\n",
       "    <tr>\n",
       "      <th>15840</th>\n",
       "      <td>2015-04-22 21:42:53</td>\n",
       "      <td>72</td>\n",
       "    </tr>\n",
       "    <tr>\n",
       "      <th>15841</th>\n",
       "      <td>2015-04-22 21:47:53</td>\n",
       "      <td>72</td>\n",
       "    </tr>\n",
       "  </tbody>\n",
       "</table>\n",
       "<p>15842 rows × 2 columns</p>\n",
       "</div>"
      ],
      "text/plain": [
       "                 timestamp  value\n",
       "0      2015-02-26 21:42:53     35\n",
       "1      2015-02-26 21:47:53     41\n",
       "2      2015-02-26 21:52:53     32\n",
       "3      2015-02-26 21:57:53     36\n",
       "4      2015-02-26 22:02:53     32\n",
       "...                    ...    ...\n",
       "15837  2015-04-22 21:27:53     58\n",
       "15838  2015-04-22 21:32:53     50\n",
       "15839  2015-04-22 21:37:53     32\n",
       "15840  2015-04-22 21:42:53     72\n",
       "15841  2015-04-22 21:47:53     72\n",
       "\n",
       "[15842 rows x 2 columns]"
      ]
     },
     "execution_count": 97,
     "metadata": {},
     "output_type": "execute_result"
    }
   ],
   "source": [
    "data"
   ]
  },
  {
   "cell_type": "code",
   "execution_count": 98,
   "metadata": {},
   "outputs": [
    {
     "data": {
      "text/plain": [
       "<matplotlib.axes._subplots.AxesSubplot at 0x19db8de6b08>"
      ]
     },
     "execution_count": 98,
     "metadata": {},
     "output_type": "execute_result"
    },
    {
     "data": {
      "image/png": "[encoded data removed]",
      "text/plain": [
       "<Figure size 432x288 with 1 Axes>"
      ]
     },
     "metadata": {
      "needs_background": "light"
     },
     "output_type": "display_data"
    }
   ],
   "source": [
    "data.plot()"
   ]
  },
  {
   "cell_type": "code",
   "execution_count": 99,
   "metadata": {},
   "outputs": [],
   "source": [
    "# data['timestamp'] = pd.to_datetime(data['timestamp']).apply(lambda x: x.timestamp())"
   ]
  },
  {
   "cell_type": "code",
   "execution_count": 100,
   "metadata": {},
   "outputs": [
    {
     "data": {
      "text/plain": [
       "IsolationForest(behaviour='deprecated', bootstrap=False, contamination='auto',\n",
       "                max_features=1.0, max_samples='auto', n_estimators=100,\n",
       "                n_jobs=None, random_state=0, verbose=0, warm_start=False)"
      ]
     },
     "execution_count": 100,
     "metadata": {},
     "output_type": "execute_result"
    }
   ],
   "source": [
    "iForest = IsolationForest(random_state=0)\n",
    "\n",
    "iForest.fit(data[['value']])"
   ]
  },
  {
   "cell_type": "code",
   "execution_count": 101,
   "metadata": {},
   "outputs": [],
   "source": [
    "data['anomaly_score'] = iForest.decision_function(data[['value']])\n",
    "data['anomaly'] = iForest.predict(data[['value']])"
   ]
  },
  {
   "cell_type": "code",
   "execution_count": 109,
   "metadata": {},
   "outputs": [
    {
     "data": {
      "text/html": [
       "<div>\n",
       "<style scoped>\n",
       "    .dataframe tbody tr th:only-of-type {\n",
       "        vertical-align: middle;\n",
       "    }\n",
       "\n",
       "    .dataframe tbody tr th {\n",
       "        vertical-align: top;\n",
       "    }\n",
       "\n",
       "    .dataframe thead th {\n",
       "        text-align: right;\n",
       "    }\n",
       "</style>\n",
       "<table border=\"1\" class=\"dataframe\">\n",
       "  <thead>\n",
       "    <tr style=\"text-align: right;\">\n",
       "      <th></th>\n",
       "      <th>timestamp</th>\n",
       "      <th>value</th>\n",
       "      <th>anomaly_score</th>\n",
       "      <th>anomaly</th>\n",
       "    </tr>\n",
       "  </thead>\n",
       "  <tbody>\n",
       "    <tr>\n",
       "      <th>4312</th>\n",
       "      <td>2015-03-13 21:02:53</td>\n",
       "      <td>327</td>\n",
       "      <td>-0.354731</td>\n",
       "      <td>-1</td>\n",
       "    </tr>\n",
       "    <tr>\n",
       "      <th>9763</th>\n",
       "      <td>2015-04-01 19:17:53</td>\n",
       "      <td>465</td>\n",
       "      <td>-0.354731</td>\n",
       "      <td>-1</td>\n",
       "    </tr>\n",
       "    <tr>\n",
       "      <th>4311</th>\n",
       "      <td>2015-03-13 20:57:53</td>\n",
       "      <td>411</td>\n",
       "      <td>-0.354731</td>\n",
       "      <td>-1</td>\n",
       "    </tr>\n",
       "    <tr>\n",
       "      <th>4305</th>\n",
       "      <td>2015-03-13 20:27:53</td>\n",
       "      <td>295</td>\n",
       "      <td>-0.354731</td>\n",
       "      <td>-1</td>\n",
       "    </tr>\n",
       "    <tr>\n",
       "      <th>4302</th>\n",
       "      <td>2015-03-13 20:12:53</td>\n",
       "      <td>276</td>\n",
       "      <td>-0.354731</td>\n",
       "      <td>-1</td>\n",
       "    </tr>\n",
       "    <tr>\n",
       "      <th>4304</th>\n",
       "      <td>2015-03-13 20:22:53</td>\n",
       "      <td>452</td>\n",
       "      <td>-0.354731</td>\n",
       "      <td>-1</td>\n",
       "    </tr>\n",
       "    <tr>\n",
       "      <th>4317</th>\n",
       "      <td>2015-03-13 21:27:53</td>\n",
       "      <td>268</td>\n",
       "      <td>-0.354731</td>\n",
       "      <td>-1</td>\n",
       "    </tr>\n",
       "    <tr>\n",
       "      <th>4545</th>\n",
       "      <td>2015-03-14 16:27:53</td>\n",
       "      <td>287</td>\n",
       "      <td>-0.354731</td>\n",
       "      <td>-1</td>\n",
       "    </tr>\n",
       "    <tr>\n",
       "      <th>4564</th>\n",
       "      <td>2015-03-14 18:02:53</td>\n",
       "      <td>264</td>\n",
       "      <td>-0.353576</td>\n",
       "      <td>-1</td>\n",
       "    </tr>\n",
       "    <tr>\n",
       "      <th>9785</th>\n",
       "      <td>2015-04-01 21:07:53</td>\n",
       "      <td>238</td>\n",
       "      <td>-0.349543</td>\n",
       "      <td>-1</td>\n",
       "    </tr>\n",
       "    <tr>\n",
       "      <th>4307</th>\n",
       "      <td>2015-03-13 20:37:53</td>\n",
       "      <td>224</td>\n",
       "      <td>-0.349543</td>\n",
       "      <td>-1</td>\n",
       "    </tr>\n",
       "    <tr>\n",
       "      <th>4309</th>\n",
       "      <td>2015-03-13 20:47:53</td>\n",
       "      <td>227</td>\n",
       "      <td>-0.349543</td>\n",
       "      <td>-1</td>\n",
       "    </tr>\n",
       "    <tr>\n",
       "      <th>9580</th>\n",
       "      <td>2015-04-01 04:02:53</td>\n",
       "      <td>244</td>\n",
       "      <td>-0.349543</td>\n",
       "      <td>-1</td>\n",
       "    </tr>\n",
       "    <tr>\n",
       "      <th>4585</th>\n",
       "      <td>2015-03-14 19:47:53</td>\n",
       "      <td>240</td>\n",
       "      <td>-0.349543</td>\n",
       "      <td>-1</td>\n",
       "    </tr>\n",
       "    <tr>\n",
       "      <th>9602</th>\n",
       "      <td>2015-04-01 05:52:53</td>\n",
       "      <td>215</td>\n",
       "      <td>-0.348968</td>\n",
       "      <td>-1</td>\n",
       "    </tr>\n",
       "  </tbody>\n",
       "</table>\n",
       "</div>"
      ],
      "text/plain": [
       "                timestamp  value  anomaly_score  anomaly\n",
       "4312  2015-03-13 21:02:53    327      -0.354731       -1\n",
       "9763  2015-04-01 19:17:53    465      -0.354731       -1\n",
       "4311  2015-03-13 20:57:53    411      -0.354731       -1\n",
       "4305  2015-03-13 20:27:53    295      -0.354731       -1\n",
       "4302  2015-03-13 20:12:53    276      -0.354731       -1\n",
       "4304  2015-03-13 20:22:53    452      -0.354731       -1\n",
       "4317  2015-03-13 21:27:53    268      -0.354731       -1\n",
       "4545  2015-03-14 16:27:53    287      -0.354731       -1\n",
       "4564  2015-03-14 18:02:53    264      -0.353576       -1\n",
       "9785  2015-04-01 21:07:53    238      -0.349543       -1\n",
       "4307  2015-03-13 20:37:53    224      -0.349543       -1\n",
       "4309  2015-03-13 20:47:53    227      -0.349543       -1\n",
       "9580  2015-04-01 04:02:53    244      -0.349543       -1\n",
       "4585  2015-03-14 19:47:53    240      -0.349543       -1\n",
       "9602  2015-04-01 05:52:53    215      -0.348968       -1"
      ]
     },
     "execution_count": 109,
     "metadata": {},
     "output_type": "execute_result"
    }
   ],
   "source": [
    "data[data['anomaly']==-1].sort_values(by=['anomaly_score']).iloc[0:15]"
   ]
  },
  {
   "cell_type": "markdown",
   "metadata": {},
   "source": [
    "From the IsolationForest approach, a high anomaly index is visible from the second week of March to the first week of April. After a quick fact-checking, I believe the spike in 'GOOG' tickr may have been because of an inconsistency with the stock dividends for Canadian investors. An article from around that time https://sdtimes.com/2lemetry/googles-multi-device-reference-app-amazons-acquisition-2elemtry-sd-times-news-digest-march-13-2015/ may have caused Twitter users to share the news through tweets mentioning 'GOOG' tickr symbol."
   ]
  }
 ],
 "metadata": {
  "kernelspec": {
   "display_name": "Python 3",
   "language": "python",
   "name": "python3"
  },
  "language_info": {
   "codemirror_mode": {
    "name": "ipython",
    "version": 3
   },
   "file_extension": ".py",
   "mimetype": "text/x-python",
   "name": "python",
   "nbconvert_exporter": "python",
   "pygments_lexer": "ipython3",
   "version": "3.7.6"
  }
 },
 "nbformat": 4,
 "nbformat_minor": 4
}
